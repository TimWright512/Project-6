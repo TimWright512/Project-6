{
 "cells": [
  {
   "cell_type": "code",
   "execution_count": 20,
   "id": "69f008d1",
   "metadata": {},
   "outputs": [],
   "source": [
    "import pandas as pd"
   ]
  },
  {
   "cell_type": "code",
   "execution_count": 21,
   "id": "c17e5ae1",
   "metadata": {},
   "outputs": [],
   "source": [
    "df = pd.read_csv('vehicles_us.csv')"
   ]
  },
  {
   "cell_type": "code",
   "execution_count": 22,
   "id": "3667cab3",
   "metadata": {},
   "outputs": [],
   "source": [
    "df_sorted = df['model'].sort_values()"
   ]
  },
  {
   "cell_type": "code",
   "execution_count": 23,
   "id": "e589c666",
   "metadata": {
    "scrolled": true
   },
   "outputs": [
    {
     "data": {
      "text/plain": [
       "array(['acura tl', 'bmw x5', 'buick enclave', 'cadillac escalade',\n",
       "       'chevrolet camaro', 'chevrolet camaro lt coupe 2d',\n",
       "       'chevrolet colorado', 'chevrolet corvette', 'chevrolet cruze',\n",
       "       'chevrolet equinox', 'chevrolet impala', 'chevrolet malibu',\n",
       "       'chevrolet silverado', 'chevrolet silverado 1500',\n",
       "       'chevrolet silverado 1500 crew', 'chevrolet silverado 2500hd',\n",
       "       'chevrolet silverado 3500hd', 'chevrolet suburban',\n",
       "       'chevrolet tahoe', 'chevrolet trailblazer', 'chevrolet traverse',\n",
       "       'chrysler 200', 'chrysler 300', 'chrysler town & country',\n",
       "       'dodge charger', 'dodge dakota', 'dodge grand caravan',\n",
       "       'ford econoline', 'ford edge', 'ford escape', 'ford expedition',\n",
       "       'ford explorer', 'ford f-150', 'ford f-250', 'ford f-250 sd',\n",
       "       'ford f-250 super duty', 'ford f-350 sd', 'ford f150',\n",
       "       'ford f150 supercrew cab xlt', 'ford f250', 'ford f250 super duty',\n",
       "       'ford f350', 'ford f350 super duty', 'ford focus', 'ford focus se',\n",
       "       'ford fusion', 'ford fusion se', 'ford mustang',\n",
       "       'ford mustang gt coupe 2d', 'ford ranger', 'ford taurus',\n",
       "       'gmc acadia', 'gmc sierra', 'gmc sierra 1500', 'gmc sierra 2500hd',\n",
       "       'gmc yukon', 'honda accord', 'honda civic', 'honda civic lx',\n",
       "       'honda cr-v', 'honda odyssey', 'honda pilot', 'hyundai elantra',\n",
       "       'hyundai santa fe', 'hyundai sonata', 'jeep cherokee',\n",
       "       'jeep grand cherokee', 'jeep grand cherokee laredo',\n",
       "       'jeep liberty', 'jeep wrangler', 'jeep wrangler unlimited',\n",
       "       'kia sorento', 'kia soul', 'mercedes-benz benze sprinter 2500',\n",
       "       'nissan altima', 'nissan frontier', 'nissan frontier crew cab sv',\n",
       "       'nissan maxima', 'nissan murano', 'nissan rogue', 'nissan sentra',\n",
       "       'nissan versa', 'ram 1500', 'ram 2500', 'ram 3500',\n",
       "       'subaru forester', 'subaru impreza', 'subaru outback',\n",
       "       'toyota 4runner', 'toyota camry', 'toyota camry le',\n",
       "       'toyota corolla', 'toyota highlander', 'toyota prius',\n",
       "       'toyota rav4', 'toyota sienna', 'toyota tacoma', 'toyota tundra',\n",
       "       'volkswagen jetta', 'volkswagen passat'], dtype=object)"
      ]
     },
     "execution_count": 23,
     "metadata": {},
     "output_type": "execute_result"
    }
   ],
   "source": [
    "df_sorted.unique()"
   ]
  },
  {
   "cell_type": "code",
   "execution_count": 34,
   "id": "74b88401",
   "metadata": {},
   "outputs": [],
   "source": [
    "def replace_wrong_models(wrong_models, correct_model): \n",
    "    for wrong_model in wrong_models: \n",
    "        df['model'] = df['model'].replace(wrong_model, correct_model) \n",
    "\n",
    "duplicates = 'ford f150' \n",
    "name = 'ford f-150'\n",
    "\n",
    "duplicates_two = 'ford f250'\n",
    "name_two = 'ford f-250'\n",
    "\n",
    "duplicates_three = 'ford f350'\n",
    "name_three = 'ford f-350'\n",
    "\n",
    "duplicates_four = 'ford f150 supercrew cab xlt'\n",
    "name_four = 'ford f-150 supercrew cab xlt'\n",
    "\n",
    "duplicates_five = ['ford f-250 sd', 'ford f250 super duty']\n",
    "name_five = 'ford f-250 super duty'\n",
    "\n",
    "duplicates_six = ['ford f-350 sd', 'ford f350 super duty']\n",
    "name_six = 'ford f-350 super duty'\n",
    "\n",
    "replace_wrong_models(duplicates, name)\n",
    "replace_wrong_models(duplicates_two, name_two)\n",
    "replace_wrong_models(duplicates_three, name_three)\n",
    "replace_wrong_models(duplicates_four, name_four)\n",
    "replace_wrong_models(duplicates_five, name_five)\n",
    "replace_wrong_models(duplicates_six, name_six)"
   ]
  },
  {
   "cell_type": "code",
   "execution_count": 35,
   "id": "21c659c6",
   "metadata": {},
   "outputs": [
    {
     "data": {
      "text/plain": [
       "array(['acura tl', 'bmw x5', 'buick enclave', 'cadillac escalade',\n",
       "       'chevrolet camaro', 'chevrolet camaro lt coupe 2d',\n",
       "       'chevrolet colorado', 'chevrolet corvette', 'chevrolet cruze',\n",
       "       'chevrolet equinox', 'chevrolet impala', 'chevrolet malibu',\n",
       "       'chevrolet silverado', 'chevrolet silverado 1500',\n",
       "       'chevrolet silverado 1500 crew', 'chevrolet silverado 2500hd',\n",
       "       'chevrolet silverado 3500hd', 'chevrolet suburban',\n",
       "       'chevrolet tahoe', 'chevrolet trailblazer', 'chevrolet traverse',\n",
       "       'chrysler 200', 'chrysler 300', 'chrysler town & country',\n",
       "       'dodge charger', 'dodge dakota', 'dodge grand caravan',\n",
       "       'ford econoline', 'ford edge', 'ford escape', 'ford expedition',\n",
       "       'ford explorer', 'ford f-150', 'ford f-250', 'ford f-250 sd',\n",
       "       'ford f-250 super duty', 'ford f-350 sd', 'ford f150',\n",
       "       'ford f150 supercrew cab xlt', 'ford f250', 'ford f250 super duty',\n",
       "       'ford f350', 'ford f350 super duty', 'ford focus', 'ford focus se',\n",
       "       'ford fusion', 'ford fusion se', 'ford mustang',\n",
       "       'ford mustang gt coupe 2d', 'ford ranger', 'ford taurus',\n",
       "       'gmc acadia', 'gmc sierra', 'gmc sierra 1500', 'gmc sierra 2500hd',\n",
       "       'gmc yukon', 'honda accord', 'honda civic', 'honda civic lx',\n",
       "       'honda cr-v', 'honda odyssey', 'honda pilot', 'hyundai elantra',\n",
       "       'hyundai santa fe', 'hyundai sonata', 'jeep cherokee',\n",
       "       'jeep grand cherokee', 'jeep grand cherokee laredo',\n",
       "       'jeep liberty', 'jeep wrangler', 'jeep wrangler unlimited',\n",
       "       'kia sorento', 'kia soul', 'mercedes-benz benze sprinter 2500',\n",
       "       'nissan altima', 'nissan frontier', 'nissan frontier crew cab sv',\n",
       "       'nissan maxima', 'nissan murano', 'nissan rogue', 'nissan sentra',\n",
       "       'nissan versa', 'ram 1500', 'ram 2500', 'ram 3500',\n",
       "       'subaru forester', 'subaru impreza', 'subaru outback',\n",
       "       'toyota 4runner', 'toyota camry', 'toyota camry le',\n",
       "       'toyota corolla', 'toyota highlander', 'toyota prius',\n",
       "       'toyota rav4', 'toyota sienna', 'toyota tacoma', 'toyota tundra',\n",
       "       'volkswagen jetta', 'volkswagen passat'], dtype=object)"
      ]
     },
     "execution_count": 35,
     "metadata": {},
     "output_type": "execute_result"
    }
   ],
   "source": [
    "df_sorted.unique()"
   ]
  },
  {
   "cell_type": "code",
   "execution_count": 10,
   "id": "501d011f",
   "metadata": {},
   "outputs": [
    {
     "data": {
      "text/plain": [
       "price               0\n",
       "model_year       3619\n",
       "model               0\n",
       "condition           0\n",
       "cylinders        5260\n",
       "fuel                0\n",
       "odometer         7892\n",
       "transmission        0\n",
       "type                0\n",
       "paint_color      9267\n",
       "is_4wd          25953\n",
       "date_posted         0\n",
       "days_listed         0\n",
       "manufacturer        0\n",
       "car_age          3619\n",
       "dtype: int64"
      ]
     },
     "execution_count": 10,
     "metadata": {},
     "output_type": "execute_result"
    }
   ],
   "source": [
    "df.isna().sum()"
   ]
  },
  {
   "cell_type": "code",
   "execution_count": 41,
   "id": "7be4168a",
   "metadata": {},
   "outputs": [
    {
     "name": "stdout",
     "output_type": "stream",
     "text": [
      "<pandas.core.groupby.generic.SeriesGroupBy object at 0x000001A1142DC310>\n"
     ]
    }
   ],
   "source": [
    "df_grouped = df.groupby('model')['model_year']\n",
    "\n",
    "print(df_grouped)"
   ]
  },
  {
   "cell_type": "code",
   "execution_count": 43,
   "id": "4fac6ab8",
   "metadata": {},
   "outputs": [
    {
     "name": "stdout",
     "output_type": "stream",
     "text": [
      "model\n",
      "acura tl             224\n",
      "bmw x5               246\n",
      "buick enclave        257\n",
      "cadillac escalade    295\n",
      "chevrolet camaro     392\n",
      "                    ... \n",
      "toyota sienna        308\n",
      "toyota tacoma        769\n",
      "toyota tundra        568\n",
      "volkswagen jetta     485\n",
      "volkswagen passat    324\n",
      "Name: model_year, Length: 95, dtype: int64\n"
     ]
    }
   ],
   "source": [
    "df_count = df.groupby('model')['model_year'].count()\n",
    "print(df_count)"
   ]
  },
  {
   "cell_type": "code",
   "execution_count": 47,
   "id": "92845439",
   "metadata": {},
   "outputs": [
    {
     "name": "stdout",
     "output_type": "stream",
     "text": [
      "model\n",
      "acura tl             2007.0\n",
      "bmw x5               2010.0\n",
      "buick enclave        2012.0\n",
      "cadillac escalade    2009.0\n",
      "chevrolet camaro     2013.0\n",
      "                      ...  \n",
      "toyota sienna        2008.0\n",
      "toyota tacoma        2010.0\n",
      "toyota tundra        2009.0\n",
      "volkswagen jetta     2012.0\n",
      "volkswagen passat    2013.0\n",
      "Name: model_year, Length: 95, dtype: float64\n"
     ]
    }
   ],
   "source": [
    "df_median = df.groupby('model')['model_year'].median()\n",
    "print(df_median)"
   ]
  },
  {
   "cell_type": "code",
   "execution_count": null,
   "id": "0d4ef896",
   "metadata": {},
   "outputs": [],
   "source": []
  },
  {
   "cell_type": "code",
   "execution_count": null,
   "id": "3565d9eb",
   "metadata": {},
   "outputs": [],
   "source": []
  },
  {
   "cell_type": "code",
   "execution_count": null,
   "id": "d60d7b8d",
   "metadata": {},
   "outputs": [],
   "source": []
  },
  {
   "cell_type": "code",
   "execution_count": null,
   "id": "8a86106f",
   "metadata": {},
   "outputs": [],
   "source": []
  },
  {
   "cell_type": "code",
   "execution_count": null,
   "id": "f9a94a5b",
   "metadata": {},
   "outputs": [],
   "source": []
  }
 ],
 "metadata": {
  "kernelspec": {
   "display_name": "Python 3 (ipykernel)",
   "language": "python",
   "name": "python3"
  },
  "language_info": {
   "codemirror_mode": {
    "name": "ipython",
    "version": 3
   },
   "file_extension": ".py",
   "mimetype": "text/x-python",
   "name": "python",
   "nbconvert_exporter": "python",
   "pygments_lexer": "ipython3",
   "version": "3.10.9"
  }
 },
 "nbformat": 4,
 "nbformat_minor": 5
}
