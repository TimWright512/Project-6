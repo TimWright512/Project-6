{
 "cells": [
  {
   "cell_type": "code",
   "execution_count": 2,
   "id": "69f008d1",
   "metadata": {},
   "outputs": [],
   "source": [
    "import pandas as pd"
   ]
  },
  {
   "cell_type": "code",
   "execution_count": 3,
   "id": "c17e5ae1",
   "metadata": {},
   "outputs": [],
   "source": [
    "df = pd.read_csv('vehicles_us.csv')"
   ]
  },
  {
   "cell_type": "code",
   "execution_count": 4,
   "id": "0d4ef896",
   "metadata": {},
   "outputs": [],
   "source": [
    "df['model_year'] = df['model_year'].fillna(df.groupby(['model'])['model_year'].transform('median'))"
   ]
  },
  {
   "cell_type": "code",
   "execution_count": 5,
   "id": "3565d9eb",
   "metadata": {},
   "outputs": [],
   "source": [
    "df['cylinders'] = df['cylinders'].fillna(df.groupby(['model'])['cylinders'].transform('median'))"
   ]
  },
  {
   "cell_type": "code",
   "execution_count": 6,
   "id": "d60d7b8d",
   "metadata": {},
   "outputs": [],
   "source": [
    "df['odometer'] = df['odometer'].fillna(df.groupby(['model_year'])['odometer'].transform('mean'))"
   ]
  },
  {
   "cell_type": "code",
   "execution_count": 7,
   "id": "8a86106f",
   "metadata": {},
   "outputs": [],
   "source": [
    "df['car_age'] = df['car_age'].fillna(df.groupby(['model_year'])['car_age'].transform('mean'))"
   ]
  },
  {
   "cell_type": "code",
   "execution_count": 9,
   "id": "e1c06b7e",
   "metadata": {},
   "outputs": [],
   "source": [
    "df.to_csv('vehicles_us.csv', index=False)"
   ]
  },
  {
   "cell_type": "code",
   "execution_count": 10,
   "id": "d2871bed",
   "metadata": {},
   "outputs": [
    {
     "name": "stdout",
     "output_type": "stream",
     "text": [
      "       price  model_year              model  condition  cylinders    fuel  \\\n",
      "0      14498      2014.0           acura tl  excellent        6.0     gas   \n",
      "1      14498      2014.0           acura tl  excellent        6.0     gas   \n",
      "2      12995      2014.0           acura tl  excellent        6.0     gas   \n",
      "3      12995      2014.0           acura tl  excellent        6.0     gas   \n",
      "4      12500      2013.0           acura tl       good        6.0     gas   \n",
      "...      ...         ...                ...        ...        ...     ...   \n",
      "51520   3750      2013.0  volkswagen passat       good        4.0     gas   \n",
      "51521   2995      2013.0  volkswagen passat  excellent        4.0     gas   \n",
      "51522   1500      2013.0  volkswagen passat       good        6.0  diesel   \n",
      "51523   1300      2013.0  volkswagen passat       fair        6.0     gas   \n",
      "51524   1000      2013.0  volkswagen passat       fair        4.0     gas   \n",
      "\n",
      "            odometer transmission   type paint_color  is_4wd date_posted  \\\n",
      "0       84152.000000    automatic  sedan       black     NaN  12/14/2018   \n",
      "1       93648.703319    automatic  sedan       black     NaN    5/8/2018   \n",
      "2      108850.000000    automatic  sedan      silver     NaN   3/23/2019   \n",
      "3      108850.000000    automatic  sedan      silver     NaN   3/23/2019   \n",
      "4       94000.000000    automatic  sedan        grey     1.0    5/7/2018   \n",
      "...              ...          ...    ...         ...     ...         ...   \n",
      "51520  102825.315489    automatic  wagon         NaN     NaN   6/13/2018   \n",
      "51521     130.000000    automatic  sedan        grey     NaN   5/11/2018   \n",
      "51522  170000.000000    automatic  sedan      silver     NaN   6/19/2018   \n",
      "51523  102825.315489    automatic  sedan        blue     NaN   6/30/2018   \n",
      "51524  152000.000000    automatic  sedan        blue     NaN   6/18/2018   \n",
      "\n",
      "       days_listed manufacturer  car_age  \n",
      "0               38        acura      9.0  \n",
      "1               43        acura      9.0  \n",
      "2               30        acura      9.0  \n",
      "3               20        acura      9.0  \n",
      "4               19        acura     10.0  \n",
      "...            ...          ...      ...  \n",
      "51520           26   volkswagen     10.0  \n",
      "51521           22   volkswagen     10.0  \n",
      "51522            8   volkswagen     10.0  \n",
      "51523           22   volkswagen     10.0  \n",
      "51524           22   volkswagen     10.0  \n",
      "\n",
      "[51525 rows x 15 columns]\n"
     ]
    }
   ],
   "source": [
    "print(df)"
   ]
  }
 ],
 "metadata": {
  "kernelspec": {
   "display_name": "Python 3 (ipykernel)",
   "language": "python",
   "name": "python3"
  },
  "language_info": {
   "codemirror_mode": {
    "name": "ipython",
    "version": 3
   },
   "file_extension": ".py",
   "mimetype": "text/x-python",
   "name": "python",
   "nbconvert_exporter": "python",
   "pygments_lexer": "ipython3",
   "version": "3.10.9"
  }
 },
 "nbformat": 4,
 "nbformat_minor": 5
}
